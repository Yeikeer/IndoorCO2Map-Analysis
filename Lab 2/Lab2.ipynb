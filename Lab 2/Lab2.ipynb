{
 "cells": [
  {
   "cell_type": "markdown",
   "id": "0a5d9e6f",
   "metadata": {},
   "source": [
    "\n",
    "# Database of indoor $CO_2$ measurements\n",
    "\n",
    "### Santiago Correa Restrepo\n",
    "### santiagocorrea251469@correo.itm.edu.co\n",
    "\n",
    "---\n",
    "\n",
    "<br/>"
   ]
  },
  {
   "cell_type": "code",
   "execution_count": 3,
   "id": "2ce3e4bf",
   "metadata": {},
   "outputs": [
    {
     "name": "stdout",
     "output_type": "stream",
     "text": [
      "\n",
      "DataFrame columns: ['nwrtype', 'nwrID', 'name', 'latitude', 'longitude', 'countryID', 'countryName', 'nuts3ID', 'nuts3Name', 'osmKey', 'osmTag', 'brand', 'startOfMeasurement', 'windowsOpen', 'ventilationSystem', 'customNotes', 'co2readings', 'offset', 'interval', 'co2readingsAvg']\n"
     ]
    }
   ],
   "source": [
    "import requests\n",
    "import pandas as pd\n",
    "import numpy as np\n",
    "import matplotlib.pyplot as plt\n",
    "from datetime import datetime, timedelta\n",
    "from matplotlib.colors import LogNorm\n",
    "\n",
    "# Load data from a JSON file and convert it into a pandas DataFrame\n",
    "\n",
    "class DataLoad:\n",
    "    def __init__(self, url):\n",
    "        self.url = url\n",
    "\n",
    "    def __call__(self):\n",
    "        response = requests.get(self.url)\n",
    "        response.raise_for_status() \n",
    "        data = response.json()\n",
    "        df = pd.DataFrame(data)\n",
    "        return df\n",
    "\n",
    "\n",
    "url = \"https://raw.githubusercontent.com/Yeikeer/IndoorCO2Map-Analysis/main/Lab%201/indoorco2mapData.json\"\n",
    "\n",
    "\n",
    "indoorco2map = DataLoad(url)()\n",
    "\n",
    "print(f'\\nDataFrame columns: {indoorco2map.columns.tolist()}') # Print the first rows of the DataFrame\n"
   ]
  },
  {
   "cell_type": "code",
   "execution_count": null,
   "id": "e9d8fee5",
   "metadata": {},
   "outputs": [],
   "source": []
  }
 ],
 "metadata": {
  "kernelspec": {
   "display_name": "Python 3",
   "language": "python",
   "name": "python3"
  },
  "language_info": {
   "codemirror_mode": {
    "name": "ipython",
    "version": 3
   },
   "file_extension": ".py",
   "mimetype": "text/x-python",
   "name": "python",
   "nbconvert_exporter": "python",
   "pygments_lexer": "ipython3",
   "version": "3.10.11"
  }
 },
 "nbformat": 4,
 "nbformat_minor": 5
}
